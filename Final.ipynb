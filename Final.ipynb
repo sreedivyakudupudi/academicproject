{
 "cells": [
  {
   "cell_type": "code",
   "execution_count": 2,
   "id": "016407ab",
   "metadata": {},
   "outputs": [],
   "source": [
    "import numpy as np\n",
    "import pandas as pd\n",
    "import matplotlib.pyplot as plt\n",
    "# Importing the dataset\n",
    "dataset = pd.read_csv('data (3).csv', sep = '|')\n",
    "X = dataset.drop(['Name', 'md5', 'legitimate'], axis = 1).values\n",
    "y = dataset['legitimate'].values\n",
    "\n",
    "# Tree-based feature selection:\n",
    "from sklearn.feature_selection import SelectFromModel\n",
    "import sklearn.ensemble as ske\n",
    "fsel = ske.ExtraTreesClassifier().fit(X, y)#transforms to importance value"
   ]
  },
  {
   "cell_type": "code",
   "execution_count": 3,
   "id": "1f8dd9c3",
   "metadata": {
    "scrolled": true
   },
   "outputs": [
    {
     "name": "stdout",
     "output_type": "stream",
     "text": [
      "<class 'pandas.core.frame.DataFrame'>\n",
      "RangeIndex: 10539 entries, 0 to 10538\n",
      "Data columns (total 57 columns):\n",
      " #   Column                       Non-Null Count  Dtype  \n",
      "---  ------                       --------------  -----  \n",
      " 0   Name                         10539 non-null  object \n",
      " 1   md5                          10539 non-null  object \n",
      " 2   Machine                      10539 non-null  int64  \n",
      " 3   SizeOfOptionalHeader         10539 non-null  int64  \n",
      " 4   Characteristics              10539 non-null  int64  \n",
      " 5   MajorLinkerVersion           10539 non-null  int64  \n",
      " 6   MinorLinkerVersion           10539 non-null  int64  \n",
      " 7   SizeOfCode                   10539 non-null  int64  \n",
      " 8   SizeOfInitializedData        10539 non-null  int64  \n",
      " 9   SizeOfUninitializedData      10539 non-null  int64  \n",
      " 10  AddressOfEntryPoint          10539 non-null  int64  \n",
      " 11  BaseOfCode                   10539 non-null  int64  \n",
      " 12  BaseOfData                   10539 non-null  int64  \n",
      " 13  ImageBase                    10539 non-null  int64  \n",
      " 14  SectionAlignment             10539 non-null  int64  \n",
      " 15  FileAlignment                10539 non-null  int64  \n",
      " 16  MajorOperatingSystemVersion  10539 non-null  int64  \n",
      " 17  MinorOperatingSystemVersion  10539 non-null  int64  \n",
      " 18  MajorImageVersion            10539 non-null  int64  \n",
      " 19  MinorImageVersion            10539 non-null  int64  \n",
      " 20  MajorSubsystemVersion        10539 non-null  int64  \n",
      " 21  MinorSubsystemVersion        10539 non-null  int64  \n",
      " 22  SizeOfImage                  10539 non-null  int64  \n",
      " 23  SizeOfHeaders                10539 non-null  int64  \n",
      " 24  CheckSum                     10539 non-null  int64  \n",
      " 25  Subsystem                    10539 non-null  int64  \n",
      " 26  DllCharacteristics           10539 non-null  int64  \n",
      " 27  SizeOfStackReserve           10539 non-null  int64  \n",
      " 28  SizeOfStackCommit            10539 non-null  int64  \n",
      " 29  SizeOfHeapReserve            10539 non-null  int64  \n",
      " 30  SizeOfHeapCommit             10539 non-null  int64  \n",
      " 31  LoaderFlags                  10539 non-null  int64  \n",
      " 32  NumberOfRvaAndSizes          10539 non-null  int64  \n",
      " 33  SectionsNb                   10539 non-null  int64  \n",
      " 34  SectionsMeanEntropy          10539 non-null  float64\n",
      " 35  SectionsMinEntropy           10539 non-null  float64\n",
      " 36  SectionsMaxEntropy           10539 non-null  float64\n",
      " 37  SectionsMeanRawsize          10539 non-null  float64\n",
      " 38  SectionsMinRawsize           10539 non-null  int64  \n",
      " 39  SectionMaxRawsize            10539 non-null  int64  \n",
      " 40  SectionsMeanVirtualsize      10539 non-null  float64\n",
      " 41  SectionsMinVirtualsize       10539 non-null  int64  \n",
      " 42  SectionMaxVirtualsize        10539 non-null  int64  \n",
      " 43  ImportsNbDLL                 10539 non-null  int64  \n",
      " 44  ImportsNb                    10539 non-null  int64  \n",
      " 45  ImportsNbOrdinal             10539 non-null  int64  \n",
      " 46  ExportNb                     10539 non-null  int64  \n",
      " 47  ResourcesNb                  10539 non-null  int64  \n",
      " 48  ResourcesMeanEntropy         10539 non-null  float64\n",
      " 49  ResourcesMinEntropy          10539 non-null  float64\n",
      " 50  ResourcesMaxEntropy          10539 non-null  float64\n",
      " 51  ResourcesMeanSize            10539 non-null  float64\n",
      " 52  ResourcesMinSize             10539 non-null  int64  \n",
      " 53  ResourcesMaxSize             10539 non-null  int64  \n",
      " 54  LoadConfigurationSize        10539 non-null  int64  \n",
      " 55  VersionInformationSize       10539 non-null  int64  \n",
      " 56  legitimate                   10539 non-null  int64  \n",
      "dtypes: float64(9), int64(46), object(2)\n",
      "memory usage: 4.6+ MB\n"
     ]
    }
   ],
   "source": [
    "dataset.info()"
   ]
  },
  {
   "cell_type": "code",
   "execution_count": 4,
   "id": "b23943a0",
   "metadata": {},
   "outputs": [
    {
     "data": {
      "text/html": [
       "<div>\n",
       "<style scoped>\n",
       "    .dataframe tbody tr th:only-of-type {\n",
       "        vertical-align: middle;\n",
       "    }\n",
       "\n",
       "    .dataframe tbody tr th {\n",
       "        vertical-align: top;\n",
       "    }\n",
       "\n",
       "    .dataframe thead th {\n",
       "        text-align: right;\n",
       "    }\n",
       "</style>\n",
       "<table border=\"1\" class=\"dataframe\">\n",
       "  <thead>\n",
       "    <tr style=\"text-align: right;\">\n",
       "      <th></th>\n",
       "      <th>Machine</th>\n",
       "      <th>SizeOfOptionalHeader</th>\n",
       "      <th>Characteristics</th>\n",
       "      <th>MajorLinkerVersion</th>\n",
       "      <th>MinorLinkerVersion</th>\n",
       "      <th>SizeOfCode</th>\n",
       "      <th>SizeOfInitializedData</th>\n",
       "      <th>SizeOfUninitializedData</th>\n",
       "      <th>AddressOfEntryPoint</th>\n",
       "      <th>BaseOfCode</th>\n",
       "      <th>...</th>\n",
       "      <th>ResourcesNb</th>\n",
       "      <th>ResourcesMeanEntropy</th>\n",
       "      <th>ResourcesMinEntropy</th>\n",
       "      <th>ResourcesMaxEntropy</th>\n",
       "      <th>ResourcesMeanSize</th>\n",
       "      <th>ResourcesMinSize</th>\n",
       "      <th>ResourcesMaxSize</th>\n",
       "      <th>LoadConfigurationSize</th>\n",
       "      <th>VersionInformationSize</th>\n",
       "      <th>legitimate</th>\n",
       "    </tr>\n",
       "  </thead>\n",
       "  <tbody>\n",
       "    <tr>\n",
       "      <th>count</th>\n",
       "      <td>10539.000000</td>\n",
       "      <td>10539.000000</td>\n",
       "      <td>10539.000000</td>\n",
       "      <td>10539.000000</td>\n",
       "      <td>10539.000000</td>\n",
       "      <td>1.053900e+04</td>\n",
       "      <td>1.053900e+04</td>\n",
       "      <td>1.053900e+04</td>\n",
       "      <td>1.053900e+04</td>\n",
       "      <td>1.053900e+04</td>\n",
       "      <td>...</td>\n",
       "      <td>10539.000000</td>\n",
       "      <td>10539.000000</td>\n",
       "      <td>10539.000000</td>\n",
       "      <td>10539.000000</td>\n",
       "      <td>1.053900e+04</td>\n",
       "      <td>10539.000000</td>\n",
       "      <td>1.053900e+04</td>\n",
       "      <td>1.053900e+04</td>\n",
       "      <td>10539.000000</td>\n",
       "      <td>10539.000000</td>\n",
       "    </tr>\n",
       "    <tr>\n",
       "      <th>mean</th>\n",
       "      <td>10897.261979</td>\n",
       "      <td>228.981118</td>\n",
       "      <td>6690.892115</td>\n",
       "      <td>11.002277</td>\n",
       "      <td>8.951513</td>\n",
       "      <td>1.318032e+06</td>\n",
       "      <td>1.048309e+06</td>\n",
       "      <td>2.818828e+05</td>\n",
       "      <td>3.815470e+05</td>\n",
       "      <td>5.756487e+04</td>\n",
       "      <td>...</td>\n",
       "      <td>19.825505</td>\n",
       "      <td>3.720452</td>\n",
       "      <td>2.245625</td>\n",
       "      <td>5.488690</td>\n",
       "      <td>2.555231e+04</td>\n",
       "      <td>280.169845</td>\n",
       "      <td>2.383246e+05</td>\n",
       "      <td>1.517926e+05</td>\n",
       "      <td>11.036057</td>\n",
       "      <td>0.335895</td>\n",
       "    </tr>\n",
       "    <tr>\n",
       "      <th>std</th>\n",
       "      <td>15760.025794</td>\n",
       "      <td>7.525192</td>\n",
       "      <td>10279.733735</td>\n",
       "      <td>7.423987</td>\n",
       "      <td>11.159629</td>\n",
       "      <td>3.752865e+07</td>\n",
       "      <td>2.655705e+07</td>\n",
       "      <td>1.527909e+07</td>\n",
       "      <td>1.774100e+06</td>\n",
       "      <td>9.568175e+05</td>\n",
       "      <td>...</td>\n",
       "      <td>82.190732</td>\n",
       "      <td>1.015392</td>\n",
       "      <td>1.145585</td>\n",
       "      <td>1.895338</td>\n",
       "      <td>1.150441e+05</td>\n",
       "      <td>1631.936775</td>\n",
       "      <td>1.311310e+06</td>\n",
       "      <td>1.557227e+07</td>\n",
       "      <td>7.295529</td>\n",
       "      <td>0.472325</td>\n",
       "    </tr>\n",
       "    <tr>\n",
       "      <th>min</th>\n",
       "      <td>332.000000</td>\n",
       "      <td>224.000000</td>\n",
       "      <td>2.000000</td>\n",
       "      <td>0.000000</td>\n",
       "      <td>0.000000</td>\n",
       "      <td>0.000000e+00</td>\n",
       "      <td>0.000000e+00</td>\n",
       "      <td>0.000000e+00</td>\n",
       "      <td>0.000000e+00</td>\n",
       "      <td>0.000000e+00</td>\n",
       "      <td>...</td>\n",
       "      <td>0.000000</td>\n",
       "      <td>0.000000</td>\n",
       "      <td>0.000000</td>\n",
       "      <td>0.000000</td>\n",
       "      <td>0.000000e+00</td>\n",
       "      <td>0.000000</td>\n",
       "      <td>0.000000e+00</td>\n",
       "      <td>0.000000e+00</td>\n",
       "      <td>0.000000</td>\n",
       "      <td>0.000000</td>\n",
       "    </tr>\n",
       "    <tr>\n",
       "      <th>25%</th>\n",
       "      <td>332.000000</td>\n",
       "      <td>224.000000</td>\n",
       "      <td>258.000000</td>\n",
       "      <td>6.000000</td>\n",
       "      <td>0.000000</td>\n",
       "      <td>4.300800e+04</td>\n",
       "      <td>3.993600e+04</td>\n",
       "      <td>0.000000e+00</td>\n",
       "      <td>1.286000e+04</td>\n",
       "      <td>4.096000e+03</td>\n",
       "      <td>...</td>\n",
       "      <td>2.000000</td>\n",
       "      <td>3.352950</td>\n",
       "      <td>1.569330</td>\n",
       "      <td>3.661073</td>\n",
       "      <td>8.744286e+02</td>\n",
       "      <td>20.000000</td>\n",
       "      <td>9.840000e+02</td>\n",
       "      <td>0.000000e+00</td>\n",
       "      <td>0.000000</td>\n",
       "      <td>0.000000</td>\n",
       "    </tr>\n",
       "    <tr>\n",
       "      <th>50%</th>\n",
       "      <td>332.000000</td>\n",
       "      <td>224.000000</td>\n",
       "      <td>271.000000</td>\n",
       "      <td>14.000000</td>\n",
       "      <td>11.000000</td>\n",
       "      <td>1.658880e+05</td>\n",
       "      <td>1.628160e+05</td>\n",
       "      <td>0.000000e+00</td>\n",
       "      <td>7.164400e+04</td>\n",
       "      <td>4.096000e+03</td>\n",
       "      <td>...</td>\n",
       "      <td>6.000000</td>\n",
       "      <td>3.667685</td>\n",
       "      <td>2.434955</td>\n",
       "      <td>5.214816</td>\n",
       "      <td>2.196800e+03</td>\n",
       "      <td>104.000000</td>\n",
       "      <td>9.640000e+03</td>\n",
       "      <td>9.200000e+01</td>\n",
       "      <td>16.000000</td>\n",
       "      <td>0.000000</td>\n",
       "    </tr>\n",
       "    <tr>\n",
       "      <th>75%</th>\n",
       "      <td>34404.000000</td>\n",
       "      <td>240.000000</td>\n",
       "      <td>8226.000000</td>\n",
       "      <td>14.000000</td>\n",
       "      <td>12.000000</td>\n",
       "      <td>4.003840e+05</td>\n",
       "      <td>8.668160e+05</td>\n",
       "      <td>0.000000e+00</td>\n",
       "      <td>2.012160e+05</td>\n",
       "      <td>4.096000e+03</td>\n",
       "      <td>...</td>\n",
       "      <td>19.000000</td>\n",
       "      <td>4.193130</td>\n",
       "      <td>3.012886</td>\n",
       "      <td>7.544784</td>\n",
       "      <td>1.242508e+04</td>\n",
       "      <td>240.000000</td>\n",
       "      <td>8.246400e+04</td>\n",
       "      <td>2.560000e+02</td>\n",
       "      <td>16.000000</td>\n",
       "      <td>1.000000</td>\n",
       "    </tr>\n",
       "    <tr>\n",
       "      <th>max</th>\n",
       "      <td>34404.000000</td>\n",
       "      <td>328.000000</td>\n",
       "      <td>41358.000000</td>\n",
       "      <td>127.000000</td>\n",
       "      <td>165.000000</td>\n",
       "      <td>1.766614e+09</td>\n",
       "      <td>1.918989e+09</td>\n",
       "      <td>1.070112e+09</td>\n",
       "      <td>6.673171e+07</td>\n",
       "      <td>6.203392e+07</td>\n",
       "      <td>...</td>\n",
       "      <td>4385.000000</td>\n",
       "      <td>7.998279</td>\n",
       "      <td>7.998279</td>\n",
       "      <td>7.999994</td>\n",
       "      <td>6.189540e+06</td>\n",
       "      <td>89912.000000</td>\n",
       "      <td>6.003751e+07</td>\n",
       "      <td>1.598644e+09</td>\n",
       "      <td>21.000000</td>\n",
       "      <td>1.000000</td>\n",
       "    </tr>\n",
       "  </tbody>\n",
       "</table>\n",
       "<p>8 rows × 55 columns</p>\n",
       "</div>"
      ],
      "text/plain": [
       "            Machine  SizeOfOptionalHeader  Characteristics  \\\n",
       "count  10539.000000          10539.000000     10539.000000   \n",
       "mean   10897.261979            228.981118      6690.892115   \n",
       "std    15760.025794              7.525192     10279.733735   \n",
       "min      332.000000            224.000000         2.000000   \n",
       "25%      332.000000            224.000000       258.000000   \n",
       "50%      332.000000            224.000000       271.000000   \n",
       "75%    34404.000000            240.000000      8226.000000   \n",
       "max    34404.000000            328.000000     41358.000000   \n",
       "\n",
       "       MajorLinkerVersion  MinorLinkerVersion    SizeOfCode  \\\n",
       "count        10539.000000        10539.000000  1.053900e+04   \n",
       "mean            11.002277            8.951513  1.318032e+06   \n",
       "std              7.423987           11.159629  3.752865e+07   \n",
       "min              0.000000            0.000000  0.000000e+00   \n",
       "25%              6.000000            0.000000  4.300800e+04   \n",
       "50%             14.000000           11.000000  1.658880e+05   \n",
       "75%             14.000000           12.000000  4.003840e+05   \n",
       "max            127.000000          165.000000  1.766614e+09   \n",
       "\n",
       "       SizeOfInitializedData  SizeOfUninitializedData  AddressOfEntryPoint  \\\n",
       "count           1.053900e+04             1.053900e+04         1.053900e+04   \n",
       "mean            1.048309e+06             2.818828e+05         3.815470e+05   \n",
       "std             2.655705e+07             1.527909e+07         1.774100e+06   \n",
       "min             0.000000e+00             0.000000e+00         0.000000e+00   \n",
       "25%             3.993600e+04             0.000000e+00         1.286000e+04   \n",
       "50%             1.628160e+05             0.000000e+00         7.164400e+04   \n",
       "75%             8.668160e+05             0.000000e+00         2.012160e+05   \n",
       "max             1.918989e+09             1.070112e+09         6.673171e+07   \n",
       "\n",
       "         BaseOfCode  ...   ResourcesNb  ResourcesMeanEntropy  \\\n",
       "count  1.053900e+04  ...  10539.000000          10539.000000   \n",
       "mean   5.756487e+04  ...     19.825505              3.720452   \n",
       "std    9.568175e+05  ...     82.190732              1.015392   \n",
       "min    0.000000e+00  ...      0.000000              0.000000   \n",
       "25%    4.096000e+03  ...      2.000000              3.352950   \n",
       "50%    4.096000e+03  ...      6.000000              3.667685   \n",
       "75%    4.096000e+03  ...     19.000000              4.193130   \n",
       "max    6.203392e+07  ...   4385.000000              7.998279   \n",
       "\n",
       "       ResourcesMinEntropy  ResourcesMaxEntropy  ResourcesMeanSize  \\\n",
       "count         10539.000000         10539.000000       1.053900e+04   \n",
       "mean              2.245625             5.488690       2.555231e+04   \n",
       "std               1.145585             1.895338       1.150441e+05   \n",
       "min               0.000000             0.000000       0.000000e+00   \n",
       "25%               1.569330             3.661073       8.744286e+02   \n",
       "50%               2.434955             5.214816       2.196800e+03   \n",
       "75%               3.012886             7.544784       1.242508e+04   \n",
       "max               7.998279             7.999994       6.189540e+06   \n",
       "\n",
       "       ResourcesMinSize  ResourcesMaxSize  LoadConfigurationSize  \\\n",
       "count      10539.000000      1.053900e+04           1.053900e+04   \n",
       "mean         280.169845      2.383246e+05           1.517926e+05   \n",
       "std         1631.936775      1.311310e+06           1.557227e+07   \n",
       "min            0.000000      0.000000e+00           0.000000e+00   \n",
       "25%           20.000000      9.840000e+02           0.000000e+00   \n",
       "50%          104.000000      9.640000e+03           9.200000e+01   \n",
       "75%          240.000000      8.246400e+04           2.560000e+02   \n",
       "max        89912.000000      6.003751e+07           1.598644e+09   \n",
       "\n",
       "       VersionInformationSize    legitimate  \n",
       "count            10539.000000  10539.000000  \n",
       "mean                11.036057      0.335895  \n",
       "std                  7.295529      0.472325  \n",
       "min                  0.000000      0.000000  \n",
       "25%                  0.000000      0.000000  \n",
       "50%                 16.000000      0.000000  \n",
       "75%                 16.000000      1.000000  \n",
       "max                 21.000000      1.000000  \n",
       "\n",
       "[8 rows x 55 columns]"
      ]
     },
     "execution_count": 4,
     "metadata": {},
     "output_type": "execute_result"
    }
   ],
   "source": [
    "dataset.describe()"
   ]
  },
  {
   "cell_type": "code",
   "execution_count": 5,
   "id": "df0b316e",
   "metadata": {},
   "outputs": [
    {
     "data": {
      "text/plain": [
       "Name                           0\n",
       "md5                            0\n",
       "Machine                        0\n",
       "SizeOfOptionalHeader           0\n",
       "Characteristics                0\n",
       "MajorLinkerVersion             0\n",
       "MinorLinkerVersion             0\n",
       "SizeOfCode                     0\n",
       "SizeOfInitializedData          0\n",
       "SizeOfUninitializedData        0\n",
       "AddressOfEntryPoint            0\n",
       "BaseOfCode                     0\n",
       "BaseOfData                     0\n",
       "ImageBase                      0\n",
       "SectionAlignment               0\n",
       "FileAlignment                  0\n",
       "MajorOperatingSystemVersion    0\n",
       "MinorOperatingSystemVersion    0\n",
       "MajorImageVersion              0\n",
       "MinorImageVersion              0\n",
       "MajorSubsystemVersion          0\n",
       "MinorSubsystemVersion          0\n",
       "SizeOfImage                    0\n",
       "SizeOfHeaders                  0\n",
       "CheckSum                       0\n",
       "Subsystem                      0\n",
       "DllCharacteristics             0\n",
       "SizeOfStackReserve             0\n",
       "SizeOfStackCommit              0\n",
       "SizeOfHeapReserve              0\n",
       "SizeOfHeapCommit               0\n",
       "LoaderFlags                    0\n",
       "NumberOfRvaAndSizes            0\n",
       "SectionsNb                     0\n",
       "SectionsMeanEntropy            0\n",
       "SectionsMinEntropy             0\n",
       "SectionsMaxEntropy             0\n",
       "SectionsMeanRawsize            0\n",
       "SectionsMinRawsize             0\n",
       "SectionMaxRawsize              0\n",
       "SectionsMeanVirtualsize        0\n",
       "SectionsMinVirtualsize         0\n",
       "SectionMaxVirtualsize          0\n",
       "ImportsNbDLL                   0\n",
       "ImportsNb                      0\n",
       "ImportsNbOrdinal               0\n",
       "ExportNb                       0\n",
       "ResourcesNb                    0\n",
       "ResourcesMeanEntropy           0\n",
       "ResourcesMinEntropy            0\n",
       "ResourcesMaxEntropy            0\n",
       "ResourcesMeanSize              0\n",
       "ResourcesMinSize               0\n",
       "ResourcesMaxSize               0\n",
       "LoadConfigurationSize          0\n",
       "VersionInformationSize         0\n",
       "legitimate                     0\n",
       "dtype: int64"
      ]
     },
     "execution_count": 5,
     "metadata": {},
     "output_type": "execute_result"
    }
   ],
   "source": [
    "dataset.isnull().sum()"
   ]
  },
  {
   "cell_type": "code",
   "execution_count": 6,
   "id": "3914fbed",
   "metadata": {},
   "outputs": [
    {
     "data": {
      "text/plain": [
       "(10539, 54)"
      ]
     },
     "execution_count": 6,
     "metadata": {},
     "output_type": "execute_result"
    }
   ],
   "source": [
    "X.shape"
   ]
  },
  {
   "cell_type": "code",
   "execution_count": 7,
   "id": "2fffcbfd",
   "metadata": {},
   "outputs": [
    {
     "data": {
      "text/plain": [
       "10"
      ]
     },
     "execution_count": 7,
     "metadata": {},
     "output_type": "execute_result"
    }
   ],
   "source": [
    "model = SelectFromModel(fsel, prefit=True)\n",
    "X_new = model.transform(X)#considers important features\n",
    "nb_features = X_new.shape[1]\n",
    "nb_features\n",
    "    "
   ]
  },
  {
   "cell_type": "code",
   "execution_count": 8,
   "id": "bd4eb986",
   "metadata": {},
   "outputs": [
    {
     "data": {
      "text/plain": [
       "10"
      ]
     },
     "execution_count": 8,
     "metadata": {},
     "output_type": "execute_result"
    }
   ],
   "source": [
    "X_new.shape[1]"
   ]
  },
  {
   "cell_type": "code",
   "execution_count": 9,
   "id": "ad2dea37",
   "metadata": {},
   "outputs": [
    {
     "data": {
      "text/plain": [
       "array([2.72758074e-01, 7.19738350e-02, 2.13925362e-02, 1.24937601e-02,\n",
       "       1.07840466e-02, 5.06497913e-03, 2.77180029e-03, 1.33484635e-03,\n",
       "       6.77779556e-03, 8.23850382e-04, 2.86810050e-03, 1.09783150e-02,\n",
       "       1.92655489e-03, 5.44377482e-03, 1.25682570e-01, 7.02168553e-03,\n",
       "       8.59902626e-03, 1.94555873e-03, 1.21753536e-01, 9.56939697e-03,\n",
       "       2.57403457e-03, 3.29181537e-03, 4.80885543e-03, 6.67233330e-03,\n",
       "       5.61280133e-02, 4.72779412e-03, 2.88037487e-03, 1.11322082e-03,\n",
       "       3.08024766e-04, 6.53322814e-06, 4.28910222e-05, 4.06290343e-03,\n",
       "       1.21609117e-02, 7.34697600e-03, 8.97043324e-03, 3.51422494e-03,\n",
       "       2.16956840e-03, 3.54058498e-03, 3.22585257e-03, 2.69486225e-03,\n",
       "       2.96807561e-03, 2.22522906e-02, 4.52765340e-03, 1.82638436e-03,\n",
       "       6.34519749e-04, 4.52240286e-03, 1.33207649e-02, 1.27190013e-02,\n",
       "       3.09886826e-02, 3.39324857e-03, 4.45020695e-03, 2.75118865e-03,\n",
       "       2.07346732e-02, 4.27066559e-02])"
      ]
     },
     "execution_count": 9,
     "metadata": {},
     "output_type": "execute_result"
    }
   ],
   "source": [
    "fsel.feature_importances_"
   ]
  },
  {
   "cell_type": "code",
   "execution_count": 12,
   "id": "920887d8",
   "metadata": {},
   "outputs": [
    {
     "data": {
      "text/plain": [
       "array([0.04270666, 0.02073467, 0.00275119, 0.00445021, 0.00339325,\n",
       "       0.03098868, 0.012719  , 0.01332076, 0.0045224 , 0.00063452])"
      ]
     },
     "execution_count": 12,
     "metadata": {},
     "output_type": "execute_result"
    }
   ],
   "source": [
    "#fsel.feature_importances_[::-1][:nb_features]"
   ]
  },
  {
   "cell_type": "code",
   "execution_count": 13,
   "id": "db61d4cd",
   "metadata": {},
   "outputs": [
    {
     "data": {
      "text/plain": [
       "array([ 0, 14, 18,  1, 24, 53, 48, 41,  2, 52], dtype=int64)"
      ]
     },
     "execution_count": 13,
     "metadata": {},
     "output_type": "execute_result"
    }
   ],
   "source": [
    "np.argsort(fsel.feature_importances_)[::-1][:nb_features]"
   ]
  },
  {
   "cell_type": "code",
   "execution_count": 15,
   "id": "7de5238f",
   "metadata": {},
   "outputs": [
    {
     "data": {
      "text/plain": [
       "Index(['Name', 'md5', 'Machine', 'SizeOfOptionalHeader', 'Characteristics',\n",
       "       'MajorLinkerVersion', 'MinorLinkerVersion', 'SizeOfCode',\n",
       "       'SizeOfInitializedData', 'SizeOfUninitializedData',\n",
       "       'AddressOfEntryPoint', 'BaseOfCode', 'BaseOfData', 'ImageBase',\n",
       "       'SectionAlignment', 'FileAlignment', 'MajorOperatingSystemVersion',\n",
       "       'MinorOperatingSystemVersion', 'MajorImageVersion', 'MinorImageVersion',\n",
       "       'MajorSubsystemVersion', 'MinorSubsystemVersion', 'SizeOfImage',\n",
       "       'SizeOfHeaders', 'CheckSum', 'Subsystem', 'DllCharacteristics',\n",
       "       'SizeOfStackReserve', 'SizeOfStackCommit', 'SizeOfHeapReserve',\n",
       "       'SizeOfHeapCommit', 'LoaderFlags', 'NumberOfRvaAndSizes', 'SectionsNb',\n",
       "       'SectionsMeanEntropy', 'SectionsMinEntropy', 'SectionsMaxEntropy',\n",
       "       'SectionsMeanRawsize', 'SectionsMinRawsize', 'SectionMaxRawsize',\n",
       "       'SectionsMeanVirtualsize', 'SectionsMinVirtualsize',\n",
       "       'SectionMaxVirtualsize', 'ImportsNbDLL', 'ImportsNb',\n",
       "       'ImportsNbOrdinal', 'ExportNb', 'ResourcesNb', 'ResourcesMeanEntropy',\n",
       "       'ResourcesMinEntropy', 'ResourcesMaxEntropy', 'ResourcesMeanSize',\n",
       "       'ResourcesMinSize', 'ResourcesMaxSize', 'LoadConfigurationSize',\n",
       "       'VersionInformationSize', 'legitimate'],\n",
       "      dtype='object')"
      ]
     },
     "execution_count": 15,
     "metadata": {},
     "output_type": "execute_result"
    }
   ],
   "source": [
    "dataset.columns"
   ]
  },
  {
   "cell_type": "code",
   "execution_count": 14,
   "id": "a3c1a43d",
   "metadata": {},
   "outputs": [
    {
     "data": {
      "text/plain": [
       "array([ 0, 14, 18,  1, 24, 53, 48, 41,  2, 52], dtype=int64)"
      ]
     },
     "execution_count": 14,
     "metadata": {},
     "output_type": "execute_result"
    }
   ],
   "source": [
    "indices = np.argsort(fsel.feature_importances_)[::-1][:nb_features]\n",
    "indices"
   ]
  },
  {
   "cell_type": "code",
   "execution_count": 17,
   "id": "80957947",
   "metadata": {},
   "outputs": [
    {
     "name": "stdout",
     "output_type": "stream",
     "text": [
      "1. feature Machine (0.272758)\n",
      "2. feature MajorOperatingSystemVersion (0.125683)\n",
      "3. feature MajorSubsystemVersion (0.121754)\n",
      "4. feature SizeOfOptionalHeader (0.071974)\n",
      "5. feature DllCharacteristics (0.056128)\n",
      "6. feature VersionInformationSize (0.042707)\n",
      "7. feature ResourcesMaxEntropy (0.030989)\n",
      "8. feature ImportsNbDLL (0.022252)\n",
      "9. feature Characteristics (0.021393)\n",
      "10. feature LoadConfigurationSize (0.020735)\n"
     ]
    }
   ],
   "source": [
    "feature_imp=[]\n",
    "features = [] #feature importances are printed along with feature names\n",
    "for f in range(nb_features):\n",
    "    print(\"%d. feature %s (%f)\" % (f + 1, dataset.columns[2+indices[f]], fsel.feature_importances_[indices[f]]))\n",
    "    feature_imp.append(fsel.feature_importances_[indices[f]])\n",
    "    features.append(dataset.columns[2+f])\n",
    "\n",
    "    "
   ]
  },
  {
   "cell_type": "code",
   "execution_count": 18,
   "id": "7cdb7d7b",
   "metadata": {},
   "outputs": [
    {
     "data": {
      "text/plain": [
       "array([ 0, 14, 18,  1, 24, 53, 48, 41,  2, 52], dtype=int64)"
      ]
     },
     "execution_count": 18,
     "metadata": {},
     "output_type": "execute_result"
    }
   ],
   "source": [
    "(indices)"
   ]
  },
  {
   "cell_type": "code",
   "execution_count": 19,
   "id": "df2c3a29",
   "metadata": {},
   "outputs": [
    {
     "data": {
      "text/plain": [
       "['Machine',\n",
       " 'SizeOfOptionalHeader',\n",
       " 'Characteristics',\n",
       " 'MajorLinkerVersion',\n",
       " 'MinorLinkerVersion',\n",
       " 'SizeOfCode',\n",
       " 'SizeOfInitializedData',\n",
       " 'SizeOfUninitializedData',\n",
       " 'AddressOfEntryPoint',\n",
       " 'BaseOfCode']"
      ]
     },
     "execution_count": 19,
     "metadata": {},
     "output_type": "execute_result"
    }
   ],
   "source": [
    "features"
   ]
  },
  {
   "cell_type": "code",
   "execution_count": 20,
   "id": "5bbb2e6c",
   "metadata": {},
   "outputs": [
    {
     "data": {
      "text/plain": [
       "[0.27275807412822395,\n",
       " 0.12568257032081706,\n",
       " 0.1217535362323136,\n",
       " 0.07197383504749211,\n",
       " 0.05612801326501538,\n",
       " 0.042706655937948694,\n",
       " 0.03098868257626805,\n",
       " 0.022252290587580555,\n",
       " 0.02139253615391498,\n",
       " 0.020734673234627975]"
      ]
     },
     "execution_count": 20,
     "metadata": {},
     "output_type": "execute_result"
    }
   ],
   "source": [
    "feature_imp"
   ]
  },
  {
   "cell_type": "code",
   "execution_count": 21,
   "id": "db366cc7",
   "metadata": {},
   "outputs": [
    {
     "name": "stdout",
     "output_type": "stream",
     "text": [
      "10\n",
      "10\n"
     ]
    }
   ],
   "source": [
    "print(len(feature_imp))\n",
    "print(len(features))"
   ]
  },
  {
   "cell_type": "code",
   "execution_count": 25,
   "id": "9aa2b50b",
   "metadata": {},
   "outputs": [
    {
     "data": {
      "image/png": "[encoded data removed]",
      "text/plain": [
       "<Figure size 600x300 with 1 Axes>"
      ]
     },
     "metadata": {},
     "output_type": "display_data"
    }
   ],
   "source": [
    "import seaborn as sns\n",
    "plt.figure(figsize=(6,3))\n",
    "barplt=sns.barplot(x=features,y=feature_imp)\n",
    "plt.xlabel('Important Features')\n",
    "plt.ylabel('Feature Importance')\n",
    "for item in barplt.get_xticklabels():\n",
    "    item.set_rotation(60)\n",
    "plt.show()"
   ]
  },
  {
   "cell_type": "code",
   "execution_count": 30,
   "id": "6162b787",
   "metadata": {},
   "outputs": [],
   "source": [
    "# Splitting the dataset into the Training set and Test set\n",
    "from sklearn.model_selection import train_test_split\n",
    "X_train, X_test, y_train, y_test = train_test_split(X_new, y, test_size = 0.20, random_state = 0)"
   ]
  },
  {
   "cell_type": "code",
   "execution_count": 31,
   "id": "a9a01ad0",
   "metadata": {},
   "outputs": [
    {
     "data": {
      "text/html": [
       "<div>\n",
       "<style scoped>\n",
       "    .dataframe tbody tr th:only-of-type {\n",
       "        vertical-align: middle;\n",
       "    }\n",
       "\n",
       "    .dataframe tbody tr th {\n",
       "        vertical-align: top;\n",
       "    }\n",
       "\n",
       "    .dataframe thead th {\n",
       "        text-align: right;\n",
       "    }\n",
       "</style>\n",
       "<table border=\"1\" class=\"dataframe\">\n",
       "  <thead>\n",
       "    <tr style=\"text-align: right;\">\n",
       "      <th></th>\n",
       "      <th>Name</th>\n",
       "      <th>md5</th>\n",
       "      <th>Machine</th>\n",
       "      <th>SizeOfOptionalHeader</th>\n",
       "      <th>Characteristics</th>\n",
       "      <th>MajorLinkerVersion</th>\n",
       "      <th>MinorLinkerVersion</th>\n",
       "      <th>SizeOfCode</th>\n",
       "      <th>SizeOfInitializedData</th>\n",
       "      <th>SizeOfUninitializedData</th>\n",
       "      <th>...</th>\n",
       "      <th>ResourcesNb</th>\n",
       "      <th>ResourcesMeanEntropy</th>\n",
       "      <th>ResourcesMinEntropy</th>\n",
       "      <th>ResourcesMaxEntropy</th>\n",
       "      <th>ResourcesMeanSize</th>\n",
       "      <th>ResourcesMinSize</th>\n",
       "      <th>ResourcesMaxSize</th>\n",
       "      <th>LoadConfigurationSize</th>\n",
       "      <th>VersionInformationSize</th>\n",
       "      <th>legitimate</th>\n",
       "    </tr>\n",
       "  </thead>\n",
       "  <tbody>\n",
       "    <tr>\n",
       "      <th>0</th>\n",
       "      <td>Windows.Internal.Shell.Broker.dll</td>\n",
       "      <td>09e83f1d1c99ad33009dbe6fb129c2d9</td>\n",
       "      <td>34404</td>\n",
       "      <td>240</td>\n",
       "      <td>8226</td>\n",
       "      <td>14</td>\n",
       "      <td>12</td>\n",
       "      <td>779776</td>\n",
       "      <td>253952</td>\n",
       "      <td>0</td>\n",
       "      <td>...</td>\n",
       "      <td>2</td>\n",
       "      <td>3.072050</td>\n",
       "      <td>2.706833</td>\n",
       "      <td>3.437268</td>\n",
       "      <td>604.000000</td>\n",
       "      <td>200</td>\n",
       "      <td>1008</td>\n",
       "      <td>256</td>\n",
       "      <td>16</td>\n",
       "      <td>1</td>\n",
       "    </tr>\n",
       "    <tr>\n",
       "      <th>1</th>\n",
       "      <td>hidserv.dll</td>\n",
       "      <td>3030f19c6a73367d6d5eedd157f5d01a</td>\n",
       "      <td>34404</td>\n",
       "      <td>240</td>\n",
       "      <td>8226</td>\n",
       "      <td>14</td>\n",
       "      <td>12</td>\n",
       "      <td>21504</td>\n",
       "      <td>13312</td>\n",
       "      <td>0</td>\n",
       "      <td>...</td>\n",
       "      <td>3</td>\n",
       "      <td>3.056204</td>\n",
       "      <td>2.709457</td>\n",
       "      <td>3.465499</td>\n",
       "      <td>515.333333</td>\n",
       "      <td>200</td>\n",
       "      <td>932</td>\n",
       "      <td>256</td>\n",
       "      <td>16</td>\n",
       "      <td>1</td>\n",
       "    </tr>\n",
       "    <tr>\n",
       "      <th>2</th>\n",
       "      <td>DmApiSetExtImplDesktop.dll</td>\n",
       "      <td>8271846f8f5dd1cfddaa957b1b9da1a2</td>\n",
       "      <td>34404</td>\n",
       "      <td>240</td>\n",
       "      <td>8226</td>\n",
       "      <td>14</td>\n",
       "      <td>12</td>\n",
       "      <td>33792</td>\n",
       "      <td>27648</td>\n",
       "      <td>0</td>\n",
       "      <td>...</td>\n",
       "      <td>1</td>\n",
       "      <td>3.466474</td>\n",
       "      <td>3.466474</td>\n",
       "      <td>3.466474</td>\n",
       "      <td>980.000000</td>\n",
       "      <td>980</td>\n",
       "      <td>980</td>\n",
       "      <td>256</td>\n",
       "      <td>16</td>\n",
       "      <td>1</td>\n",
       "    </tr>\n",
       "    <tr>\n",
       "      <th>3</th>\n",
       "      <td>FSResizerSetup27.exe</td>\n",
       "      <td>5802b4215566bb9593a736e945a28e99</td>\n",
       "      <td>332</td>\n",
       "      <td>224</td>\n",
       "      <td>271</td>\n",
       "      <td>6</td>\n",
       "      <td>0</td>\n",
       "      <td>23552</td>\n",
       "      <td>164864</td>\n",
       "      <td>1024</td>\n",
       "      <td>...</td>\n",
       "      <td>9</td>\n",
       "      <td>3.032143</td>\n",
       "      <td>1.971335</td>\n",
       "      <td>5.102472</td>\n",
       "      <td>363.444444</td>\n",
       "      <td>34</td>\n",
       "      <td>744</td>\n",
       "      <td>0</td>\n",
       "      <td>0</td>\n",
       "      <td>1</td>\n",
       "    </tr>\n",
       "    <tr>\n",
       "      <th>4</th>\n",
       "      <td>asc-setup.exe</td>\n",
       "      <td>8cb1fb45489d065720285deeccbacd98</td>\n",
       "      <td>332</td>\n",
       "      <td>224</td>\n",
       "      <td>33167</td>\n",
       "      <td>2</td>\n",
       "      <td>25</td>\n",
       "      <td>87040</td>\n",
       "      <td>71680</td>\n",
       "      <td>0</td>\n",
       "      <td>...</td>\n",
       "      <td>19</td>\n",
       "      <td>4.402265</td>\n",
       "      <td>2.699131</td>\n",
       "      <td>6.600332</td>\n",
       "      <td>3275.473684</td>\n",
       "      <td>16</td>\n",
       "      <td>33512</td>\n",
       "      <td>0</td>\n",
       "      <td>15</td>\n",
       "      <td>1</td>\n",
       "    </tr>\n",
       "  </tbody>\n",
       "</table>\n",
       "<p>5 rows × 57 columns</p>\n",
       "</div>"
      ],
      "text/plain": [
       "                                Name                               md5  \\\n",
       "0  Windows.Internal.Shell.Broker.dll  09e83f1d1c99ad33009dbe6fb129c2d9   \n",
       "1                        hidserv.dll  3030f19c6a73367d6d5eedd157f5d01a   \n",
       "2         DmApiSetExtImplDesktop.dll  8271846f8f5dd1cfddaa957b1b9da1a2   \n",
       "3               FSResizerSetup27.exe  5802b4215566bb9593a736e945a28e99   \n",
       "4                      asc-setup.exe  8cb1fb45489d065720285deeccbacd98   \n",
       "\n",
       "   Machine  SizeOfOptionalHeader  Characteristics  MajorLinkerVersion  \\\n",
       "0    34404                   240             8226                  14   \n",
       "1    34404                   240             8226                  14   \n",
       "2    34404                   240             8226                  14   \n",
       "3      332                   224              271                   6   \n",
       "4      332                   224            33167                   2   \n",
       "\n",
       "   MinorLinkerVersion  SizeOfCode  SizeOfInitializedData  \\\n",
       "0                  12      779776                 253952   \n",
       "1                  12       21504                  13312   \n",
       "2                  12       33792                  27648   \n",
       "3                   0       23552                 164864   \n",
       "4                  25       87040                  71680   \n",
       "\n",
       "   SizeOfUninitializedData  ...  ResourcesNb  ResourcesMeanEntropy  \\\n",
       "0                        0  ...            2              3.072050   \n",
       "1                        0  ...            3              3.056204   \n",
       "2                        0  ...            1              3.466474   \n",
       "3                     1024  ...            9              3.032143   \n",
       "4                        0  ...           19              4.402265   \n",
       "\n",
       "   ResourcesMinEntropy  ResourcesMaxEntropy  ResourcesMeanSize  \\\n",
       "0             2.706833             3.437268         604.000000   \n",
       "1             2.709457             3.465499         515.333333   \n",
       "2             3.466474             3.466474         980.000000   \n",
       "3             1.971335             5.102472         363.444444   \n",
       "4             2.699131             6.600332        3275.473684   \n",
       "\n",
       "   ResourcesMinSize  ResourcesMaxSize  LoadConfigurationSize  \\\n",
       "0               200              1008                    256   \n",
       "1               200               932                    256   \n",
       "2               980               980                    256   \n",
       "3                34               744                      0   \n",
       "4                16             33512                      0   \n",
       "\n",
       "   VersionInformationSize  legitimate  \n",
       "0                      16           1  \n",
       "1                      16           1  \n",
       "2                      16           1  \n",
       "3                       0           1  \n",
       "4                      15           1  \n",
       "\n",
       "[5 rows x 57 columns]"
      ]
     },
     "execution_count": 31,
     "metadata": {},
     "output_type": "execute_result"
    }
   ],
   "source": [
    "dataset.head()"
   ]
  },
  {
   "cell_type": "code",
   "execution_count": 32,
   "id": "e6711f6e",
   "metadata": {},
   "outputs": [],
   "source": [
    "# Feature Scaling\n",
    "from sklearn.preprocessing import StandardScaler\n",
    "sc = StandardScaler()\n",
    "X_train = sc.fit_transform(X_train)\n",
    "X_test = sc.transform(X_test)"
   ]
  },
  {
   "cell_type": "code",
   "execution_count": 33,
   "id": "1df5b7ab",
   "metadata": {},
   "outputs": [
    {
     "data": {
      "text/plain": [
       "KNeighborsClassifier(n_neighbors=3)"
      ]
     },
     "execution_count": 33,
     "metadata": {},
     "output_type": "execute_result"
    }
   ],
   "source": [
    "#KNN\n",
    "from sklearn.neighbors import KNeighborsClassifier\n",
    "classifier = KNeighborsClassifier(n_neighbors = 3, metric = 'minkowski', p = 2)\n",
    "classifier.fit(X_train, y_train)"
   ]
  },
  {
   "cell_type": "code",
   "execution_count": 34,
   "id": "af12ba31",
   "metadata": {},
   "outputs": [
    {
     "data": {
      "text/plain": [
       "array([0, 0, 1, 1, 0, 0, 0, 1, 0, 1], dtype=int64)"
      ]
     },
     "execution_count": 34,
     "metadata": {},
     "output_type": "execute_result"
    }
   ],
   "source": [
    "# Predicting the Test set results\n",
    "y_pred = classifier.predict(X_test)\n",
    "y_pred[:10]"
   ]
  },
  {
   "cell_type": "code",
   "execution_count": 35,
   "id": "41cf0e95",
   "metadata": {},
   "outputs": [
    {
     "data": {
      "text/plain": [
       "(2108, 10)"
      ]
     },
     "execution_count": 35,
     "metadata": {},
     "output_type": "execute_result"
    }
   ],
   "source": [
    "X_test.shape"
   ]
  },
  {
   "cell_type": "code",
   "execution_count": 36,
   "id": "502e51c4",
   "metadata": {},
   "outputs": [
    {
     "data": {
      "text/plain": [
       "array([[1377,   40],\n",
       "       [  26,  665]], dtype=int64)"
      ]
     },
     "execution_count": 36,
     "metadata": {},
     "output_type": "execute_result"
    }
   ],
   "source": [
    "# Making the Confusion Matrix\n",
    "from sklearn.metrics import confusion_matrix\n",
    "cm = confusion_matrix(y_test, y_pred)\n",
    "cm"
   ]
  },
  {
   "cell_type": "code",
   "execution_count": 37,
   "id": "92b29a9b",
   "metadata": {},
   "outputs": [
    {
     "data": {
      "text/plain": [
       "Text(33.22222222222222, 0.5, 'Truth')"
      ]
     },
     "execution_count": 37,
     "metadata": {},
     "output_type": "execute_result"
    },
    {
     "data": {
      "image/png": "[encoded data removed]",
      "text/plain": [
       "<Figure size 500x400 with 2 Axes>"
      ]
     },
     "metadata": {},
     "output_type": "display_data"
    }
   ],
   "source": [
    "%matplotlib inline\n",
    "import matplotlib.pyplot as plt\n",
    "import seaborn as sn\n",
    "plt.figure(figsize=(5,4))\n",
    "sn.heatmap(cm,annot=True)\n",
    "plt.xlabel('Predicted')\n",
    "plt.ylabel('Truth')"
   ]
  },
  {
   "cell_type": "code",
   "execution_count": 38,
   "id": "6015b1ab",
   "metadata": {},
   "outputs": [
    {
     "data": {
      "text/plain": [
       "0.9686907020872866"
      ]
     },
     "execution_count": 38,
     "metadata": {},
     "output_type": "execute_result"
    }
   ],
   "source": [
    "from sklearn.metrics import accuracy_score\n",
    "acc_knn = accuracy_score(y_test,y_pred)#(actual,predicted)\n",
    "acc_knn"
   ]
  },
  {
   "cell_type": "code",
   "execution_count": 39,
   "id": "4ea4414c",
   "metadata": {},
   "outputs": [
    {
     "data": {
      "text/plain": [
       "array([0, 0, 1, 1, 0, 0, 0, 1, 0, 1], dtype=int64)"
      ]
     },
     "execution_count": 39,
     "metadata": {},
     "output_type": "execute_result"
    }
   ],
   "source": [
    "#Random Forest Classifier\n",
    "from sklearn.ensemble import RandomForestClassifier\n",
    "classifier = RandomForestClassifier(n_estimators = 50, criterion = 'entropy')\n",
    "classifier.fit(X_train, y_train)\n",
    "\n",
    "#predict the test results\n",
    "y_pred = classifier.predict(X_test)\n",
    "y_pred[:10]"
   ]
  },
  {
   "cell_type": "code",
   "execution_count": 40,
   "id": "908f7244",
   "metadata": {},
   "outputs": [
    {
     "data": {
      "text/plain": [
       "array([[1397,   20],\n",
       "       [  19,  672]], dtype=int64)"
      ]
     },
     "execution_count": 40,
     "metadata": {},
     "output_type": "execute_result"
    }
   ],
   "source": [
    "cm = confusion_matrix(y_test, y_pred)\n",
    "cm"
   ]
  },
  {
   "cell_type": "code",
   "execution_count": 41,
   "id": "006fbd95",
   "metadata": {},
   "outputs": [
    {
     "data": {
      "text/plain": [
       "Text(33.22222222222222, 0.5, 'Truth')"
      ]
     },
     "execution_count": 41,
     "metadata": {},
     "output_type": "execute_result"
    },
    {
     "data": {
      "image/png": "[encoded data removed]",
      "text/plain": [
       "<Figure size 500x400 with 2 Axes>"
      ]
     },
     "metadata": {},
     "output_type": "display_data"
    }
   ],
   "source": [
    "plt.figure(figsize=(5,4))\n",
    "sn.heatmap(cm,annot=True)\n",
    "plt.xlabel('Predicted')\n",
    "plt.ylabel('Truth')"
   ]
  },
  {
   "cell_type": "code",
   "execution_count": 42,
   "id": "29b2db17",
   "metadata": {},
   "outputs": [
    {
     "data": {
      "text/plain": [
       "0.9814990512333965"
      ]
     },
     "execution_count": 42,
     "metadata": {},
     "output_type": "execute_result"
    }
   ],
   "source": [
    "acc_rfc = accuracy_score(y_test,y_pred)\n",
    "acc_rfc"
   ]
  },
  {
   "cell_type": "code",
   "execution_count": 48,
   "id": "1c1bca57",
   "metadata": {},
   "outputs": [
    {
     "data": {
      "text/plain": [
       "array([0, 0, 1, 1, 0, 0, 0, 1, 0, 1])"
      ]
     },
     "execution_count": 48,
     "metadata": {},
     "output_type": "execute_result"
    }
   ],
   "source": [
    "from xgboost import XGBClassifier\n",
    "classifier = XGBClassifier(max_depth=10, learning_rate=0.1, n_estimators=50)\n",
    "classifier.fit(X_train, y_train)\n",
    "\n",
    "#predict the test results\n",
    "y_pred = classifier.predict(X_test)\n",
    "y_pred[:10]"
   ]
  },
  {
   "cell_type": "code",
   "execution_count": 49,
   "id": "1f85eb5f",
   "metadata": {},
   "outputs": [
    {
     "data": {
      "text/plain": [
       "array([[1401,   16],\n",
       "       [  22,  669]], dtype=int64)"
      ]
     },
     "execution_count": 49,
     "metadata": {},
     "output_type": "execute_result"
    }
   ],
   "source": [
    "cm = confusion_matrix(y_test, y_pred)\n",
    "cm"
   ]
  },
  {
   "cell_type": "code",
   "execution_count": 50,
   "id": "271b6684",
   "metadata": {},
   "outputs": [
    {
     "data": {
      "text/plain": [
       "Text(33.22222222222222, 0.5, 'Truth')"
      ]
     },
     "execution_count": 50,
     "metadata": {},
     "output_type": "execute_result"
    },
    {
     "data": {
      "image/png": "[encoded data removed]",
      "text/plain": [
       "<Figure size 500x400 with 2 Axes>"
      ]
     },
     "metadata": {},
     "output_type": "display_data"
    }
   ],
   "source": [
    "plt.figure(figsize=(5,4))\n",
    "sn.heatmap(cm,annot=True)\n",
    "plt.xlabel('Predicted')\n",
    "plt.ylabel('Truth')"
   ]
  },
  {
   "cell_type": "code",
   "execution_count": 51,
   "id": "82ff41c7",
   "metadata": {},
   "outputs": [
    {
     "data": {
      "text/plain": [
       "0.9819734345351043"
      ]
     },
     "execution_count": 51,
     "metadata": {},
     "output_type": "execute_result"
    }
   ],
   "source": [
    "acc_xgb = accuracy_score(y_test,y_pred)\n",
    "acc_xgb"
   ]
  },
  {
   "cell_type": "code",
   "execution_count": 52,
   "id": "56ea7695",
   "metadata": {},
   "outputs": [
    {
     "name": "stdout",
     "output_type": "stream",
     "text": [
      "Requirement already satisfied: lightgbm in c:\\users\\sree divya\\anaconda3\\lib\\site-packages (3.3.5)\n",
      "Requirement already satisfied: numpy in c:\\users\\sree divya\\anaconda3\\lib\\site-packages (from lightgbm) (1.21.5)\n",
      "Requirement already satisfied: scipy in c:\\users\\sree divya\\anaconda3\\lib\\site-packages (from lightgbm) (1.7.3)\n",
      "Requirement already satisfied: scikit-learn!=0.22.0 in c:\\users\\sree divya\\anaconda3\\lib\\site-packages (from lightgbm) (1.0.2)\n",
      "Requirement already satisfied: wheel in c:\\users\\sree divya\\anaconda3\\lib\\site-packages (from lightgbm) (0.37.1)\n",
      "Requirement already satisfied: joblib>=0.11 in c:\\users\\sree divya\\anaconda3\\lib\\site-packages (from scikit-learn!=0.22.0->lightgbm) (1.1.0)\n",
      "Requirement already satisfied: threadpoolctl>=2.0.0 in c:\\users\\sree divya\\anaconda3\\lib\\site-packages (from scikit-learn!=0.22.0->lightgbm) (2.2.0)\n"
     ]
    }
   ],
   "source": [
    "!pip install lightgbm\n",
    "import lightgbm as lgbm\n",
    "model = lgbm.LGBMClassifier(boosting_type='gbdt',\n",
    "                           n_jobs=-1)"
   ]
  },
  {
   "cell_type": "code",
   "execution_count": 53,
   "id": "c3e79968",
   "metadata": {},
   "outputs": [
    {
     "data": {
      "text/plain": [
       "LGBMClassifier()"
      ]
     },
     "execution_count": 53,
     "metadata": {},
     "output_type": "execute_result"
    }
   ],
   "source": [
    "model.fit(X_train, y_train)\n",
    "\n"
   ]
  },
  {
   "cell_type": "code",
   "execution_count": 54,
   "id": "8b62ac74",
   "metadata": {},
   "outputs": [
    {
     "data": {
      "text/plain": [
       "array([0, 0, 1, 1, 0, 0, 0, 1, 0, 1], dtype=int64)"
      ]
     },
     "execution_count": 54,
     "metadata": {},
     "output_type": "execute_result"
    }
   ],
   "source": [
    "#predict the test results\n",
    "y_pred = model.predict(X_test)\n",
    "y_pred[:10]"
   ]
  },
  {
   "cell_type": "code",
   "execution_count": 55,
   "id": "89a3a679",
   "metadata": {},
   "outputs": [
    {
     "data": {
      "text/plain": [
       "array([[1398,   19],\n",
       "       [  22,  669]], dtype=int64)"
      ]
     },
     "execution_count": 55,
     "metadata": {},
     "output_type": "execute_result"
    }
   ],
   "source": [
    "cm = confusion_matrix(y_test, y_pred)\n",
    "cm"
   ]
  },
  {
   "cell_type": "code",
   "execution_count": 56,
   "id": "7deb817f",
   "metadata": {},
   "outputs": [
    {
     "data": {
      "text/plain": [
       "Text(33.22222222222222, 0.5, 'Truth')"
      ]
     },
     "execution_count": 56,
     "metadata": {},
     "output_type": "execute_result"
    },
    {
     "data": {
      "image/png": "[encoded data removed]",
      "text/plain": [
       "<Figure size 500x400 with 2 Axes>"
      ]
     },
     "metadata": {},
     "output_type": "display_data"
    }
   ],
   "source": [
    "plt.figure(figsize=(5,4))\n",
    "sn.heatmap(cm,annot=True)\n",
    "plt.xlabel('Predicted')\n",
    "plt.ylabel('Truth')"
   ]
  },
  {
   "cell_type": "code",
   "execution_count": 57,
   "id": "4fc53941",
   "metadata": {},
   "outputs": [
    {
     "data": {
      "text/plain": [
       "0.9805502846299811"
      ]
     },
     "execution_count": 57,
     "metadata": {},
     "output_type": "execute_result"
    }
   ],
   "source": [
    "acc_lgb = accuracy_score(y_test,y_pred)\n",
    "acc_lgb"
   ]
  },
  {
   "cell_type": "code",
   "execution_count": 58,
   "id": "66a9954a",
   "metadata": {},
   "outputs": [],
   "source": [
    "from sklearn.svm import SVC\n"
   ]
  },
  {
   "cell_type": "code",
   "execution_count": 61,
   "id": "5fa8f7f1",
   "metadata": {},
   "outputs": [
    {
     "name": "stdout",
     "output_type": "stream",
     "text": [
      "0.9558823529411765\n"
     ]
    }
   ],
   "source": [
    "clf = SVC(kernel='linear')\n",
    "clf.fit(X_train,y_train)\n",
    "y_pred = clf.predict(X_test)\n",
    "print(accuracy_score(y_test,y_pred))"
   ]
  },
  {
   "cell_type": "code",
   "execution_count": null,
   "id": "7be0e2e1",
   "metadata": {},
   "outputs": [],
   "source": []
  },
  {
   "cell_type": "code",
   "execution_count": null,
   "id": "bbe822d7",
   "metadata": {},
   "outputs": [],
   "source": []
  },
  {
   "cell_type": "code",
   "execution_count": null,
   "id": "5a95dfd1",
   "metadata": {},
   "outputs": [],
   "source": []
  },
  {
   "cell_type": "code",
   "execution_count": null,
   "id": "cd4012ec",
   "metadata": {},
   "outputs": [],
   "source": []
  },
  {
   "cell_type": "code",
   "execution_count": null,
   "id": "453f9e95",
   "metadata": {},
   "outputs": [],
   "source": []
  },
  {
   "cell_type": "code",
   "execution_count": null,
   "id": "62a8cbf6",
   "metadata": {},
   "outputs": [],
   "source": []
  }
 ],
 "metadata": {
  "kernelspec": {
   "display_name": "Python 3 (ipykernel)",
   "language": "python",
   "name": "python3"
  },
  "language_info": {
   "codemirror_mode": {
    "name": "ipython",
    "version": 3
   },
   "file_extension": ".py",
   "mimetype": "text/x-python",
   "name": "python",
   "nbconvert_exporter": "python",
   "pygments_lexer": "ipython3",
   "version": "3.9.13"
  }
 },
 "nbformat": 4,
 "nbformat_minor": 5
}
